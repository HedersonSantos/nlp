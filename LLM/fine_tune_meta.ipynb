{
  "nbformat": 4,
  "nbformat_minor": 0,
  "metadata": {
    "colab": {
      "provenance": [],
      "authorship_tag": "ABX9TyMma1az3irY2UQH0kPV91jP",
      "include_colab_link": true
    },
    "kernelspec": {
      "name": "python3",
      "display_name": "Python 3"
    },
    "language_info": {
      "name": "python"
    }
  },
  "cells": [
    {
      "cell_type": "markdown",
      "metadata": {
        "id": "view-in-github",
        "colab_type": "text"
      },
      "source": [
        "<a href=\"https://colab.research.google.com/github/HedersonSantos/nlp/blob/master/LLM/fine_tune_meta.ipynb\" target=\"_parent\"><img src=\"https://colab.research.google.com/assets/colab-badge.svg\" alt=\"Open In Colab\"/></a>"
      ]
    },
    {
      "cell_type": "code",
      "execution_count": null,
      "metadata": {
        "id": "4j9I7a4Hrjdk"
      },
      "outputs": [],
      "source": [
        "from transformers import TFGPT2LMHeadModel, GPT2Tokenizer\n",
        "import tensorflow as tf\n",
        "import matplotlib.pyplot as plt\n",
        "\n",
        "# Carregue o modelo pré-treinado\n",
        "tokenizer = GPT2Tokenizer.from_pretrained('gpt2')\n",
        "model = TFGPT2LMHeadModel.from_pretrained('gpt2')\n",
        "\n",
        "# Carregue seus dados de texto\n",
        "text_data = open('seu_arquivo.txt').read()\n",
        "\n",
        "# Tokenize o texto\n",
        "input_ids = tokenizer.encode(text_data, return_tensors='tf')\n",
        "\n",
        "# Prepare as sequências de entrada e saída\n",
        "input_sequences = input_ids[:, :-1]\n",
        "output_sequences = input_ids[:, 1:]\n",
        "\n",
        "# Compile o modelo\n",
        "model.compile(loss=tf.keras.losses.SparseCategoricalCrossentropy(from_logits=True), optimizer=tf.keras.optimizers.Adam(learning_rate=5e-5))\n",
        "\n",
        "# Divida os dados em conjuntos de treinamento e validação\n",
        "train_size = int(0.8 * len(input_sequences))\n",
        "train_input_sequences = input_sequences[:train_size]\n",
        "train_output_sequences = output_sequences[:train_size]\n",
        "val_input_sequences = input_sequences[train_size:]\n",
        "val_output_sequences = output_sequences[train_size:]\n",
        "\n",
        "# Treine o modelo\n",
        "epochs = 3\n",
        "batch_size = 16\n",
        "history = model.fit(train_input_sequences, train_output_sequences, epochs=epochs, batch_size=batch_size, validation_data=(val_input_sequences, val_output_sequences))\n",
        "\n",
        "# Avalie o modelo\n",
        "loss, accuracy = model.evaluate(val_input_sequences, val_output_sequences, batch_size=batch_size)\n",
        "print(f'Validation loss: {loss}, Validation accuracy: {accuracy}')\n",
        "\n",
        "# Plote o gráfico com a descida do gradiente com o valor da função loss para o treinamento e validação\n",
        "plt.plot(history.history['loss'], label='train')\n",
        "plt.plot(history.history['val_loss'], label='validation')\n",
        "plt.title('Training and Validation Loss')\n",
        "plt.xlabel('Epoch')\n",
        "plt.ylabel('Loss')\n",
        "plt.legend()\n",
        "plt.show()\n",
        "\n",
        "# Salve o modelo\n",
        "model.save_pretrained('seu_modelo')\n"
      ]
    }
  ]
}